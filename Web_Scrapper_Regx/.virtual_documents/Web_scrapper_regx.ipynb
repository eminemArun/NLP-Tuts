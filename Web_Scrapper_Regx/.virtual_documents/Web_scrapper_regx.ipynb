
from bs4 import BeautifulSoup
import requests
import re

headers={'User-Agent':'Mozilla/5.0 (Windows NT 6.3; Win 64 ; x64) Apple WeKit /537.36(KHTML , like Gecko) Chrome/80.0.3987.162 Safari/537.36'} 
url = 'https://en.wikipedia.org/wiki/Elon_Musk'
webpage = requests.get(url,headers=headers).text
#soup=BeautifulSoup(webpage,'lxml')

soup = BeautifulSoup(webpage, 'html.parser')

# Find the table with class "infobox vcard"
table = soup.find('table', class_='infobox vcard')

# Check if table exists, then extract <tr> rows
if table:
    all_text = '\n'.join(tr.get_text(strip=True) for tr in table.find_all('tr'))
    print(all_text)
else:
    print("Table with class 'infobox vcard' not found.")





def get_pattern_match(pattern, text):
    match = re.search(pattern, text)
    return match.group(1).strip() if match else None




def extract_personal_information(text):
    age = get_pattern_match(r'age (\d+)', text)
    full_name = get_pattern_match(r'Born(.*)\n', text)
    birth_date = get_pattern_match(r'Born.*\n(.*)\(age', text)
    birth_place = get_pattern_match(r'\(age.*\n(.*)', text)

    return {
        'age': int(age) if age else None,
        'name': full_name if full_name else '',
        'birth_date': birth_date if birth_date else '',
        'birth_place': birth_place if birth_place else ''
    }


extract_personal_information(all_text)

