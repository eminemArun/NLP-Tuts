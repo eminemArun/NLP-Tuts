



from bs4 import BeautifulSoup
import requests
import re

headers={'User-Agent':'Mozilla/5.0 (Windows NT 6.3; Win 64 ; x64) Apple WeKit /537.36(KHTML , like Gecko) Chrome/80.0.3987.162 Safari/537.36'} 
url = 'https://en.wikipedia.org/wiki/Elon_Musk'
webpage = requests.get(url,headers=headers).text
#soup=BeautifulSoup(webpage,'lxml')

soup = BeautifulSoup(webpage, 'html.parser')

# Find the table with class "infobox vcard"
table = soup.find('table', class_=re.compile(r'^infobox'))

# Check if table exists, then extract <tr> rows
if table:
    all_text = '\n'.join(tr.get_text(strip=True) for tr in table.find_all('tr'))
    print(all_text)
else:
    print("Table with class 'infobox vcard' not found.")




def get_pattern_match(pattern, text, flags=0):
    match = re.search(pattern, text, flags)
    return match.group(1).strip() if match else None



def extract_personal_information(text):
    full_name = get_pattern_match(r'Born\s*([A-Z][^\(]+)', text)
    birth_date = get_pattern_match(r'\((\d{4}-\d{2}-\d{2})\)', text)
    age = get_pattern_match(r'age\s*(\d+)', text)
    birth_place = get_pattern_match(r'age\s*\d+\)?\s*([A-Z][^\n]+)', text)

    return {
        'age': int(age) if age else None,
        'name': full_name or '',
        'birth_date': birth_date or '',
        'birth_place': birth_place or ''
    }


extract_personal_information(all_text)

