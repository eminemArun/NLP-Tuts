{
 "cells": [
  {
   "cell_type": "markdown",
   "id": "134be2b0-6fc4-4d2e-9817-bc8b4d503c76",
   "metadata": {},
   "source": [
    "# **Extracting Personal Information from Wikipedia using Web Scraper and Regex in Python**\n"
   ]
  },
  {
   "cell_type": "code",
   "execution_count": 53,
   "id": "8a2f4c62-d4a3-40a8-b6df-51b2039ce025",
   "metadata": {},
   "outputs": [
    {
     "name": "stdout",
     "output_type": "stream",
     "text": [
      "Elon MuskFRS\n",
      "Musk in 2022\n",
      "\n",
      "Senior Advisor to the President\n",
      "In officeJanuary 20, 2025 – May 30, 2025Serving withMassad Boulos\n",
      "PresidentDonald Trump\n",
      "Preceded byTom Perez\n",
      "\n",
      "Personal details\n",
      "BornElon Reeve Musk(1971-06-28)June 28, 1971(age 54)Pretoria, South Africa\n",
      "CitizenshipSouth Africa (since 1971)Canada (since 1989)United States (since 2002)\n",
      "Political partyIndependent\n",
      "Other politicalaffiliationsAmerica Party(2025–present)\n",
      "SpousesJustine Wilson​​(m.2000;div.2008)​Talulah Riley​​(m.2010;div.2016)​\n",
      "ChildrenAt least 14\n",
      "ParentsErrol Musk(father)Maye Musk(mother)\n",
      "RelativesMusk family\n",
      "EducationUniversity of Pennsylvania(BA,BS)\n",
      "OccupationCEO and product architect ofTeslaFounder, CEO, and chief engineer ofSpaceXFounder and CEO ofxAIFounder ofthe Boring CompanyandX Corp.Co-founder ofNeuralink,OpenAI,Zip2, andX.com(part ofPayPal)President of theMusk Foundation\n",
      "AwardsFull list\n",
      "Signature\n",
      "Elon Musk's voiceElon Musk on his departure from theDepartment of Government EfficiencyRecorded May 30, 2025\n",
      "\n"
     ]
    }
   ],
   "source": [
    "\n",
    "from bs4 import BeautifulSoup\n",
    "import requests\n",
    "import re\n",
    "\n",
    "headers={'User-Agent':'Mozilla/5.0 (Windows NT 6.3; Win 64 ; x64) Apple WeKit /537.36(KHTML , like Gecko) Chrome/80.0.3987.162 Safari/537.36'} \n",
    "url = 'https://en.wikipedia.org/wiki/Elon_Musk'\n",
    "webpage = requests.get(url,headers=headers).text\n",
    "#soup=BeautifulSoup(webpage,'lxml')\n",
    "\n",
    "soup = BeautifulSoup(webpage, 'html.parser')\n",
    "\n",
    "# Find the table with class \"infobox vcard\"\n",
    "table = soup.find('table', class_=re.compile(r'^infobox'))\n",
    "\n",
    "# Check if table exists, then extract <tr> rows\n",
    "if table:\n",
    "    all_text = '\\n'.join(tr.get_text(strip=True) for tr in table.find_all('tr'))\n",
    "    print(all_text)\n",
    "else:\n",
    "    print(\"Table with class 'infobox vcard' not found.\")\n",
    "\n"
   ]
  },
  {
   "cell_type": "code",
   "execution_count": 54,
   "id": "6fbb2837-689b-4fd2-b06d-5f27ae74979e",
   "metadata": {},
   "outputs": [],
   "source": [
    "def get_pattern_match(pattern, text, flags=0):\n",
    "    match = re.search(pattern, text, flags)\n",
    "    return match.group(1).strip() if match else None"
   ]
  },
  {
   "cell_type": "code",
   "execution_count": 55,
   "id": "b5eefed9-3597-45ee-bdcf-24dccb3a8a2c",
   "metadata": {},
   "outputs": [],
   "source": [
    "\n",
    "def extract_personal_information(text):\n",
    "    full_name = get_pattern_match(r'Born\\s*([A-Z][^\\(]+)', text)\n",
    "    birth_date = get_pattern_match(r'\\((\\d{4}-\\d{2}-\\d{2})\\)', text)\n",
    "    age = get_pattern_match(r'age\\s*(\\d+)', text)\n",
    "    birth_place = get_pattern_match(r'age\\s*\\d+\\)?\\s*([A-Z][^\\n]+)', text)\n",
    "\n",
    "    return {\n",
    "        'age': int(age) if age else None,\n",
    "        'name': full_name or '',\n",
    "        'birth_date': birth_date or '',\n",
    "        'birth_place': birth_place or ''\n",
    "    }"
   ]
  },
  {
   "cell_type": "code",
   "execution_count": 56,
   "id": "fa8fa91a-9556-407f-9ade-007c4a1cdd6c",
   "metadata": {},
   "outputs": [
    {
     "data": {
      "text/plain": [
       "{'age': 54,\n",
       " 'name': 'Elon Reeve Musk',\n",
       " 'birth_date': '1971-06-28',\n",
       " 'birth_place': 'Pretoria, South Africa'}"
      ]
     },
     "execution_count": 56,
     "metadata": {},
     "output_type": "execute_result"
    }
   ],
   "source": [
    "extract_personal_information(all_text)\n"
   ]
  }
 ],
 "metadata": {
  "kernelspec": {
   "display_name": "Python [conda env:base] *",
   "language": "python",
   "name": "conda-base-py"
  },
  "language_info": {
   "codemirror_mode": {
    "name": "ipython",
    "version": 3
   },
   "file_extension": ".py",
   "mimetype": "text/x-python",
   "name": "python",
   "nbconvert_exporter": "python",
   "pygments_lexer": "ipython3",
   "version": "3.13.5"
  }
 },
 "nbformat": 4,
 "nbformat_minor": 5
}
