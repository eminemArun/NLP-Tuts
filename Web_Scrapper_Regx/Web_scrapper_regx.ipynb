{
 "cells": [
  {
   "cell_type": "code",
   "execution_count": 44,
   "id": "8a2f4c62-d4a3-40a8-b6df-51b2039ce025",
   "metadata": {},
   "outputs": [
    {
     "name": "stdout",
     "output_type": "stream",
     "text": [
      "Narendra Modi\n",
      "Official portrait, 2023\n",
      "\n",
      "Prime Minister of India\n",
      "Incumbent\n",
      "Assumed office26 May 2014\n",
      "PresidentPranab MukherjeeRam Nath KovindDroupadi Murmu\n",
      "Vice PresidentMohammad Hamid AnsariVenkaiah NaiduJagdeep Dhankhar\n",
      "Preceded byManmohan Singh\n",
      "Additional ministriesIncumbentAssumed office26 May 2014Ministry and DepartmentsPersonnel, Public Grievances and PensionsDepartment of SpaceDepartment of Atomic EnergyPreceded byManmohan Singh\n",
      "Additional ministries\n",
      "\n",
      "\n",
      "Incumbent\n",
      "Assumed office26 May 2014\n",
      "Ministry and DepartmentsPersonnel, Public Grievances and PensionsDepartment of SpaceDepartment of Atomic Energy\n",
      "Preceded byManmohan Singh\n",
      "Leader of the House, Lok Sabha\n",
      "Incumbent\n",
      "Assumed office26 May 2014\n",
      "DeputyGopinath MundeSushma SwarajRajnath SinghNitin Gadkari\n",
      "SpeakerSumitra MahajanOm Birla\n",
      "Preceded bySushilkumar Shinde\n",
      "Member of Parliament, Lok Sabha\n",
      "Incumbent\n",
      "Assumed office5 June 2014\n",
      "Preceded byMurli Manohar Joshi\n",
      "ConstituencyVaranasi, Uttar Pradesh\n",
      "Chief Minister of Gujarat\n",
      "In office7 October 2001 – 22 May 2014\n",
      "GovernorListSunder Singh BhandariKailashpati MishraBalram JakharNawal Kishore SharmaS. C. JamirKamla Beniwal\n",
      "Preceded byKeshubhai Patel\n",
      "Succeeded byAnandiben Patel\n",
      "MemberofGujarat Legislative Assembly\n",
      "In office15 December 2002 – 16 May 2014\n",
      "Preceded byKamlesh Patel\n",
      "Succeeded bySuresh Patel\n",
      "ConstituencyManinagar\n",
      "In office24 February – 19 July 2002(2002-02-24–2002-07-19)\n",
      "Preceded byVajubhai Vala\n",
      "Succeeded byVajubhai Vala\n",
      "ConstituencyRajkot II\n",
      "General Secretary (Organisation)of theBharatiya Janata Party\n",
      "In office5 January 1998[1]– 7 October 2001\n",
      "Preceded byKushabhau Thakre\n",
      "Succeeded bySanjay Joshi\n",
      "\n",
      "Personal details\n",
      "BornNarendra Damodardas Modi(1950-09-17)17 September 1950(age 74)Vadnagar,Bombay State, India\n",
      "Political partyBharatiya Janata Party(since 1985)\n",
      "SpouseJashodaben Modi​​(m.1968;sep.1971)​[2]\n",
      "Residence7, Lok Kalyan Marg, New Delhi\n",
      "Alma materDelhi University(BA)Gujarat University(MA)\n",
      "AwardsList of awards and honours\n",
      "Signature\n",
      "WebsitePersonalPM India official\n",
      "Narendra Modi's voiceNarendra Modi on the COVID-19 pandemicRecorded 19 March 2020\n",
      "\n"
     ]
    }
   ],
   "source": [
    "\n",
    "from bs4 import BeautifulSoup\n",
    "import requests\n",
    "import re\n",
    "\n",
    "headers={'User-Agent':'Mozilla/5.0 (Windows NT 6.3; Win 64 ; x64) Apple WeKit /537.36(KHTML , like Gecko) Chrome/80.0.3987.162 Safari/537.36'} \n",
    "url = 'https://en.wikipedia.org/wiki/Modi'\n",
    "webpage = requests.get(url,headers=headers).text\n",
    "#soup=BeautifulSoup(webpage,'lxml')\n",
    "\n",
    "soup = BeautifulSoup(webpage, 'html.parser')\n",
    "\n",
    "# Find the table with class \"infobox vcard\"\n",
    "table = soup.find('table', class_=re.compile(r'^infobox'))\n",
    "\n",
    "# Check if table exists, then extract <tr> rows\n",
    "if table:\n",
    "    all_text = '\\n'.join(tr.get_text(strip=True) for tr in table.find_all('tr'))\n",
    "    print(all_text)\n",
    "else:\n",
    "    print(\"Table with class 'infobox vcard' not found.\")\n",
    "\n"
   ]
  },
  {
   "cell_type": "code",
   "execution_count": null,
   "id": "744b2ba7-7ff0-4e85-8198-1719f6d500d2",
   "metadata": {},
   "outputs": [],
   "source": []
  },
  {
   "cell_type": "code",
   "execution_count": 45,
   "id": "6fbb2837-689b-4fd2-b06d-5f27ae74979e",
   "metadata": {},
   "outputs": [],
   "source": [
    "def get_pattern_match(pattern, text, flags=0):\n",
    "    match = re.search(pattern, text, flags)\n",
    "    return match.group(1).strip() if match else None"
   ]
  },
  {
   "cell_type": "code",
   "execution_count": 46,
   "id": "b5eefed9-3597-45ee-bdcf-24dccb3a8a2c",
   "metadata": {},
   "outputs": [],
   "source": [
    "\n",
    "def extract_personal_information(text):\n",
    "    full_name = get_pattern_match(r'Born\\s*([A-Z][^\\(]+)', text)\n",
    "    birth_date = get_pattern_match(r'\\((\\d{4}-\\d{2}-\\d{2})\\)', text)\n",
    "    age = get_pattern_match(r'age\\s*(\\d+)', text)\n",
    "    birth_place = get_pattern_match(r'age\\s*\\d+\\)?\\s*([A-Z][^\\n]+)', text)\n",
    "\n",
    "    return {\n",
    "        'age': int(age) if age else None,\n",
    "        'name': full_name or '',\n",
    "        'birth_date': birth_date or '',\n",
    "        'birth_place': birth_place or ''\n",
    "    }"
   ]
  },
  {
   "cell_type": "code",
   "execution_count": 48,
   "id": "fa8fa91a-9556-407f-9ade-007c4a1cdd6c",
   "metadata": {},
   "outputs": [
    {
     "data": {
      "text/plain": [
       "{'age': 74,\n",
       " 'name': 'Narendra Damodardas Modi',\n",
       " 'birth_date': '1950-09-17',\n",
       " 'birth_place': 'Vadnagar,Bombay State, India'}"
      ]
     },
     "execution_count": 48,
     "metadata": {},
     "output_type": "execute_result"
    }
   ],
   "source": [
    "extract_personal_information(all_text)\n"
   ]
  }
 ],
 "metadata": {
  "kernelspec": {
   "display_name": "Python [conda env:base] *",
   "language": "python",
   "name": "conda-base-py"
  },
  "language_info": {
   "codemirror_mode": {
    "name": "ipython",
    "version": 3
   },
   "file_extension": ".py",
   "mimetype": "text/x-python",
   "name": "python",
   "nbconvert_exporter": "python",
   "pygments_lexer": "ipython3",
   "version": "3.13.5"
  }
 },
 "nbformat": 4,
 "nbformat_minor": 5
}
