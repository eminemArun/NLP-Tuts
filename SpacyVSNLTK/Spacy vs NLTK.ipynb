{
 "cells": [
  {
   "cell_type": "code",
   "execution_count": null,
   "id": "9b738d88-4ff4-4de4-9120-870a8b1fbe92",
   "metadata": {
    "scrolled": true
   },
   "outputs": [],
   "source": [
    "#!pip install spacy\n",
    "#!python -m spacy download en\n",
    "#!pip install nltk\n"
   ]
  },
  {
   "cell_type": "code",
   "execution_count": 9,
   "id": "df200f28-b465-44e6-9c52-84f126a3c8b4",
   "metadata": {},
   "outputs": [],
   "source": [
    "import spacy"
   ]
  },
  {
   "cell_type": "code",
   "execution_count": 11,
   "id": "b06544cd-d746-486b-8636-4908b32a8e3d",
   "metadata": {},
   "outputs": [],
   "source": [
    "nlp = spacy.load(\"en_core_web_sm\")\n",
    "\n",
    "doc = nlp(\"Iron Man enjoys vada pav from Pune, while Thor is a fan of Hyderabad's biryani.\")\n"
   ]
  },
  {
   "cell_type": "code",
   "execution_count": 12,
   "id": "3b9ce854-b552-48e8-80aa-1a77030ebfa3",
   "metadata": {},
   "outputs": [
    {
     "name": "stdout",
     "output_type": "stream",
     "text": [
      "Iron Man enjoys vada pav from Pune, while Thor is a fan of Hyderabad's biryani.\n"
     ]
    }
   ],
   "source": [
    "for sentence in doc.sents:\n",
    "    print(sentence)"
   ]
  },
  {
   "cell_type": "code",
   "execution_count": 13,
   "id": "655352f8-bafc-4dda-bdac-f6ea04427182",
   "metadata": {},
   "outputs": [
    {
     "name": "stdout",
     "output_type": "stream",
     "text": [
      "Iron\n",
      "Man\n",
      "enjoys\n",
      "vada\n",
      "pav\n",
      "from\n",
      "Pune\n",
      ",\n",
      "while\n",
      "Thor\n",
      "is\n",
      "a\n",
      "fan\n",
      "of\n",
      "Hyderabad\n",
      "'s\n",
      "biryani\n",
      ".\n"
     ]
    }
   ],
   "source": [
    "for sentence in doc.sents:\n",
    "    for word in sentence:\n",
    "        print(word)\n",
    "        "
   ]
  },
  {
   "cell_type": "code",
   "execution_count": 32,
   "id": "c9e2baf0-f7a3-4ab0-8477-36ab38d41a0e",
   "metadata": {},
   "outputs": [
    {
     "name": "stderr",
     "output_type": "stream",
     "text": [
      "[nltk_data] Downloading package punkt_tab to\n",
      "[nltk_data]     /Users/01hw2018415.tcs/nltk_data...\n",
      "[nltk_data]   Unzipping tokenizers/punkt_tab.zip.\n"
     ]
    },
    {
     "data": {
      "text/plain": [
       "True"
      ]
     },
     "execution_count": 32,
     "metadata": {},
     "output_type": "execute_result"
    }
   ],
   "source": [
    "from nltk.tokenize import sent_tokenize\n",
    "import nltk\n",
    "nltk.download('punkt_tab')"
   ]
  },
  {
   "cell_type": "code",
   "execution_count": 35,
   "id": "461776e7-15e9-4bf3-b06f-3e1cf9b86e4c",
   "metadata": {},
   "outputs": [
    {
     "data": {
      "text/plain": [
       "[\"Iron Man enjoys vada pav from Pune, while Thor is a fan of Hyderabad's biryani.\"]"
      ]
     },
     "execution_count": 35,
     "metadata": {},
     "output_type": "execute_result"
    }
   ],
   "source": [
    "sent_tokenize(\"Iron Man enjoys vada pav from Pune, while Thor is a fan of Hyderabad's biryani.\")"
   ]
  },
  {
   "cell_type": "code",
   "execution_count": 39,
   "id": "6a25f036-7c7b-4e07-b71b-fa49ded40635",
   "metadata": {},
   "outputs": [
    {
     "data": {
      "text/plain": [
       "['Iron',\n",
       " 'Man',\n",
       " 'enjoys',\n",
       " 'vada',\n",
       " 'pav',\n",
       " 'from',\n",
       " 'Pune',\n",
       " ',',\n",
       " 'while',\n",
       " 'Thor',\n",
       " 'is',\n",
       " 'a',\n",
       " 'fan',\n",
       " 'of',\n",
       " 'Hyderabad',\n",
       " \"'s\",\n",
       " 'biryani',\n",
       " '.']"
      ]
     },
     "execution_count": 39,
     "metadata": {},
     "output_type": "execute_result"
    }
   ],
   "source": [
    "from nltk.tokenize import word_tokenize\n",
    "word_tokenize(\"Iron Man enjoys vada pav from Pune, while Thor is a fan of Hyderabad's biryani.\")"
   ]
  }
 ],
 "metadata": {
  "kernelspec": {
   "display_name": "Python [conda env:base] *",
   "language": "python",
   "name": "conda-base-py"
  },
  "language_info": {
   "codemirror_mode": {
    "name": "ipython",
    "version": 3
   },
   "file_extension": ".py",
   "mimetype": "text/x-python",
   "name": "python",
   "nbconvert_exporter": "python",
   "pygments_lexer": "ipython3",
   "version": "3.13.5"
  }
 },
 "nbformat": 4,
 "nbformat_minor": 5
}
