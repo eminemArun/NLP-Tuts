#!pip install spacy
#!python -m spacy download en
#!pip install nltk



import spacy


nlp = spacy.load("en_core_web_sm")

doc = nlp("Iron Man enjoys vada pav from Pune, while Thor is a fan of Hyderabad's biryani.")



for sentence in doc.sents:
    print(sentence)


for sentence in doc.sents:
    for word in sentence:
        print(word)
        


from nltk.tokenize import sent_tokenize
import nltk
nltk.download('punkt_tab')


sent_tokenize("Iron Man enjoys vada pav from Pune, while Thor is a fan of Hyderabad's biryani.")


from nltk.tokenize import word_tokenize
word_tokenize("Iron Man enjoys vada pav from Pune, while Thor is a fan of Hyderabad's biryani.")
